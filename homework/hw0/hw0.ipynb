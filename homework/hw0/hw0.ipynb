with open('https://www.gutenberg.org/cache/epub/5827/pg5827.txt', 'r') as Input_file:
    text = Input_file.read()
